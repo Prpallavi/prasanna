{
 "cells": [
  {
   "cell_type": "code",
   "execution_count": 1,
   "metadata": {},
   "outputs": [
    {
     "name": "stdout",
     "output_type": "stream",
     "text": [
      "\n",
      "The following command must be run outside of the IPython shell:\n",
      "\n",
      "    $ pip install selenium\n",
      "\n",
      "The Python package manager (pip) can only be used from outside of IPython.\n",
      "Please reissue the `pip` command in a separate terminal or command prompt.\n",
      "\n",
      "See the Python documentation for more informations on how to install packages:\n",
      "\n",
      "    https://docs.python.org/3/installing/\n"
     ]
    }
   ],
   "source": [
    "pip install selenium"
   ]
  },
  {
   "cell_type": "code",
   "execution_count": 1,
   "metadata": {
    "collapsed": true
   },
   "outputs": [],
   "source": [
    "from selenium import webdriver\n",
    "from selenium.webdriver.support.ui import Select\n",
    "import time\n",
    "import pandas as pd"
   ]
  },
  {
   "cell_type": "code",
   "execution_count": 2,
   "metadata": {},
   "outputs": [
    {
     "name": "stdout",
     "output_type": "stream",
     "text": [
      "Requirement already satisfied: selenium in d:\\python\\lib\\site-packages\n",
      "Requirement already satisfied: urllib3 in d:\\python\\lib\\site-packages (from selenium)\n"
     ]
    },
    {
     "name": "stderr",
     "output_type": "stream",
     "text": [
      "You are using pip version 9.0.1, however version 21.2.4 is available.\n",
      "You should consider upgrading via the 'python -m pip install --upgrade pip' command.\n"
     ]
    }
   ],
   "source": [
    "! pip install selenium"
   ]
  },
  {
   "cell_type": "code",
   "execution_count": 10,
   "metadata": {},
   "outputs": [
    {
     "data": {
      "text/plain": [
       "'C:\\\\Users\\\\ELCOT'"
      ]
     },
     "execution_count": 10,
     "metadata": {},
     "output_type": "execute_result"
    }
   ],
   "source": [
    "import os\n",
    "os.getcwd()"
   ]
  },
  {
   "cell_type": "code",
   "execution_count": null,
   "metadata": {
    "collapsed": true
   },
   "outputs": [],
   "source": []
  },
  {
   "cell_type": "code",
   "execution_count": 11,
   "metadata": {},
   "outputs": [
    {
     "name": "stdout",
     "output_type": "stream",
     "text": [
      "Facebook - உள்நுழையவும் அல்லது பதிவுசெய்யவும்\n",
      "https://www.facebook.com/\n"
     ]
    }
   ],
   "source": [
    "driverPath =  r\"C:\\\\Users\\\\ELCOT\\driver\\chromedriver.exe\"\n",
    "driver = webdriver.Chrome(executable_path=driverPath)\n",
    "driver.get(\"https://www.facebook.com/\")\n",
    "print(driver.title)\n",
    "print(driver.current_url)\n",
    "# print(driver.page_source)\n",
    "driver.close()"
   ]
  },
  {
   "cell_type": "code",
   "execution_count": 29,
   "metadata": {},
   "outputs": [
    {
     "name": "stdout",
     "output_type": "stream",
     "text": [
      "Country name:  ['India\\nIreland\\nPakistan\\nAustralia\\nSri Lanka\\nBangladesh\\nEngland\\nWest Indies\\nSouth Africa\\nZimbabwe\\nNew Zealand\\nAfghanistan\\nItaly\\nBotswana\\nIran\\nBelgium\\nDenmark\\nNamibia\\nSingapore\\nBermuda\\nCanada\\nUganda\\nMalaysia\\nNepal\\nNetherlands\\nScotland\\nUnited Arab Emirates\\nHong Kong\\nKenya\\nUnited States\\nGermany\\nFiji\\nKuwait\\nVanuatu\\nJersey\\nOman\\nPapua New Guinea']\n"
     ]
    }
   ],
   "source": [
    "driver = webdriver.Chrome(executable_path=driverPath)\n",
    "driver.get(\"https://www.cricbuzz.com/\")\n",
    "driver.maximize_window()\n",
    "driver.find_element_by_xpath(\"/html[1]/body[1]/header[1]/div[1]/nav[1]/div[3]/a[1]\").click()\n",
    "time.sleep(1)\n",
    "country = driver.find_elements_by_xpath(\"//body/div[1]/div[2]/div[5]/div[1]\")\n",
    "ListOfCountry = []\n",
    "for i in country:\n",
    "    ListOfCountry.append(i.text)\n",
    "print(\"Country name: \", ListOfCountry)\n",
    "driver.close()\n"
   ]
  },
  {
   "cell_type": "code",
   "execution_count": 27,
   "metadata": {},
   "outputs": [
    {
     "name": "stdout",
     "output_type": "stream",
     "text": [
      "Search by State\n",
      "Country name:  ['Please select state', 'Alabama', 'Alaska', 'Arizona', 'Arkansas', 'California', 'Colorado', 'Connecticut', 'Delaware', 'District of Columbia', 'Florida', 'Georgia', 'Hawaii', 'Idaho', 'Illinois', 'Indiana', 'Iowa', 'Kansas', 'Kentucky', 'Louisiana', 'Maine', 'Maryland', 'Massachusetts', 'Michigan', 'Minnesota', 'Mississippi', 'Missouri', 'Montana', 'Nebraska', 'Nevada', 'New Hampshire', 'New Jersey', 'New Mexico', 'New York', 'North Carolina', 'North Dakota', 'Ohio', 'Oklahoma', 'Oregon', 'Pennsylvania', 'Rhode Island', 'South Carolina', 'South Dakota', 'Tennessee', 'Texas', 'Utah', 'Vermont', 'Virginia', 'Washington', 'West Virginia', 'Wisconsin', 'Wyoming', 'Alberta', 'British Columbia', 'Manitoba', 'New Brunswick', 'Newfoundland', 'Northwest Territories', 'Nova Scotia', 'Nunavut', 'Ontario', 'Prince Edward Island', 'Province of Quebec', 'Saskatchewan', 'Yukon Territory', 'Aguascalientes', 'Baja California Norte', 'Baja California Sur', 'Campeche', 'Chiapas', 'Chihuahua', 'Coahuila', 'Colima', 'Distrito Federal', 'Durango', 'Guanajuato', 'Guerrero', 'Hidalgo', 'Jalisco', 'Mexico', 'Michoacan', 'Morelos', 'Nayarit', 'Nuevo Leon', 'Oaxaca', 'Puebla', 'Queretaro', 'Quintana Roo', 'San Luis Potosi', 'Sinaloa', 'Sonora', 'Tabasco', 'Tamaulipas', 'Tlaxcala', 'Veracruz', 'Yucatan', 'Zacatecas']\n"
     ]
    }
   ],
   "source": [
    "driver = webdriver.Chrome(executable_path=driverPath)\n",
    "driver.get(\"https://ai.fmcsa.dot.gov/hhg/Search.asp?ads=a\")\n",
    "print(driver.title)\n",
    "s = driver.find_elements_by_xpath(\"//tbody/tr[1]/td[2]/select[1]//following::option\")\n",
    "ListOfState = []\n",
    "for i in s:\n",
    "    ListOfState.append(i.text)\n",
    "print(\"Country name: \", ListOfState)\n",
    "driver.close()"
   ]
  },
  {
   "cell_type": "code",
   "execution_count": null,
   "metadata": {},
   "outputs": [],
   "source": []
  },
  {
   "cell_type": "code",
   "execution_count": 21,
   "metadata": {
    "collapsed": true
   },
   "outputs": [],
   "source": [
    "driverPath =  r\"C:\\\\Users\\\\ELCOT\\driver\\chromedriver.exe\"\n",
    "driver = webdriver.Chrome(executable_path=driverPath)\n",
    "driver.get(\"https://www.cricbuzz.com/\")\n",
    "driver.maximize_window()\n",
    "driver.find_element_by_xpath(\"//div[@id='rankingDropDown']\").click()\n",
    "time.sleep(1)\n",
    "driver.find_element_by_xpath(\"//a[@id='batsmen-tab']\").click()\n",
    "time.sleep(1)\n",
    "driver.find_element_by_xpath(\"//a[@id='batsmen-odis-tab']\").click()\n",
    "time.sleep(1)\n",
    "driver.find_element_by_xpath(\" //a[@id='batsmen-t20s-tab']\").click()\n",
    "time.sleep(1)\n",
    "\n",
    "driver.find_element_by_xpath(\"//a[@id='bowlers-tab'] \").click()\n",
    "time.sleep(1)\n",
    "driver.find_element_by_xpath(\"//a[@id='bowlers-tests-tab'] \").click()\n",
    "time.sleep(1)\n",
    "driver.find_element_by_xpath(\" //a[@id='bowlers-odis-tab'] \").click()\n",
    "time.sleep(1)\n",
    "driver.find_element_by_xpath(\"//a[@id='bowlers-t20s-tab'] \").click()\n",
    "time.sleep(1)\n",
    "driver.find_element_by_xpath(\" //a[@id='all-rounders-tab']\").click()\n",
    "time.sleep(1)\n",
    "driver.find_element_by_xpath(\"//a[@id='allrounders-tests-tab'] \").click()\n",
    "time.sleep(1)\n",
    "driver.find_element_by_xpath(\" //a[@id='allrounders-odis-tab']\").click()\n",
    "time.sleep(1)\n",
    "driver.find_element_by_xpath(\" //a[@id='allrounders-t20s-tab']\").click()\n",
    "time.sleep(1)\n",
    "     \n",
    "driver.find_element_by_xpath(\"//a[@id='teams-tab'] \").click()\n",
    "time.sleep(1)\n",
    "driver.find_element_by_xpath(\" //a[@id='teams-tests-tab'] \").click()\n",
    "time.sleep(1)\n",
    "driver.find_element_by_xpath(\"  //a[@id='teams-odis-tab'] \").click()\n",
    "time.sleep(1)\n",
    "driver.find_element_by_xpath(\"  //a[@id='teams-t20s-tab'] \").click()\n",
    "time.sleep(1)    \n",
    "\n",
    "\n",
    "driver.back()\n",
    "driver.close()"
   ]
  },
  {
   "cell_type": "code",
   "execution_count": 17,
   "metadata": {
    "collapsed": true
   },
   "outputs": [],
   "source": [
    "driverPath =  r\"C:\\\\Users\\\\ELCOT\\driver\\chromedriver.exe\"\n",
    "driver = webdriver.Chrome(executable_path=driverPath)\n",
    "driver.get(\"https://www.cricbuzz.com/cricket-stats/icc-rankings/men/batting\")\n",
    "driver.maximize_window()\n",
    "writer=pd.ExcelWriter(r\"C:\\\\Users\\\\ELCOT\"+\"\\\\\"+'batting.xlsx',engine='xlsxwriter')\n",
    "testlst=[]\n",
    "btest=driver.find_elements_by_xpath(\"//a[@id='batsmen-tests-tab']//following::div[contains(@class,'cb-col cb-col-100 cb-font-14 cb-lst-itm text-center')]\")\n",
    "for i in btest:\n",
    "    testlst.append(i.text.split(\"\\n\"))\n",
    "driver.find_element_by_xpath(\"//a[@id='batsmen-odis-tab']\").click()\n",
    "baodi=driver.find_elements_by_xpath(\"//a[@id='batsmen-odis-tab']//following::div[contains(@class,'cb-col cb-col-100 cb-font-14 cb-lst-itm text-center')]\")\n",
    "odilst=[]\n",
    "for j in baodi:\n",
    "    if j.text!='':\n",
    "        odilst.append(j.text.split(\"\\n\"))\n",
    "driver.find_element_by_xpath(\" //a[@id='batsmen-t20s-tab'] \").click()\n",
    "t20lst=[]\n",
    "bt20=driver.find_elements_by_xpath(\" //a[@id='batsmen-t20s-tab']//following::div[contains(@class,'cb-col cb-col-100 cb-font-14 cb-lst-itm text-center')]\")\n",
    "for k in bt20:\n",
    "    if k.text!='':\n",
    "        t20lst.append(k.text.split(\"\\n\"))\n",
    "pd.ExcelWriter('batting.xlsx',engine='xlsxwriter')\n",
    "t=pd.DataFrame(testlst,columns=[\"Position\",\"Nan\",\"Player\",\"Country\",\"Rating\"])\n",
    "t.drop(\"Nan\",axis=\"columns\",inplace=True)\n",
    "t.to_excel(writer,sheet_name=\"Test\",index=False)\n",
    "\n",
    "pd.ExcelWriter('batting.xlsx',engine='xlsxwriter')\n",
    "odi=pd.DataFrame(odilst,columns=[\"Position\",\"Nan\",\"Player\",\"Country\",\"Rating\"])\n",
    "odi.drop(\"Nan\",axis=\"columns\",inplace=True)\n",
    "odi.to_excel(writer,sheet_name=\"Odi\",index=False)\n",
    "\n",
    "pd.ExcelWriter('batting.xlsx',engine='xlsxwriter')\n",
    "t20=pd.DataFrame(t20lst,columns=[\"Position\",\"Nan\",\"Player\",\"Country\",\"Rating\"])\n",
    "t20.drop(\"Nan\",axis=\"columns\",inplace=True)\n",
    "t20.to_excel(writer,sheet_name=\"T20\",index=False)\n",
    "\n",
    "writer.save()\n",
    "writer.close()\n"
   ]
  },
  {
   "cell_type": "code",
   "execution_count": 3,
   "metadata": {
    "collapsed": true
   },
   "outputs": [],
   "source": [
    "driverPath =  r\"C:\\\\Users\\\\ELCOT\\driver\\chromedriver.exe\"\n",
    "driver = webdriver.Chrome(executable_path=driverPath)\n",
    "driver.get(\"https://www.cricbuzz.com/cricket-stats/icc-rankings/men/bowling\")\n",
    "driver.maximize_window()\n",
    "writer=pd.ExcelWriter(r\"C:\\\\Users\\\\ELCOT\"+\"\\\\\"+'bowling.xlsx',engine='xlsxwriter')\n",
    "testlst=[]\n",
    "\n",
    "btest=driver.find_elements_by_xpath(\"//a[@id='bowlers-tests-tab']//following::div[contains(@class,'cb-col cb-col-100 cb-font-14 cb-lst-itm text-center')]\")\n",
    "for i in btest:\n",
    "    testlst.append(i.text.split(\"\\n\"))\n",
    "driver.find_element_by_xpath(\"//a[@id='bowlers-odis-tab']\").click()\n",
    "baodi=driver.find_elements_by_xpath(\"//a[@id='bowlers-odis-tab']//following::div[contains(@class,'cb-col cb-col-100 cb-font-14 cb-lst-itm text-center')]\")\n",
    "odilst=[]\n",
    "for j in baodi:\n",
    "    if j.text!='':\n",
    "        odilst.append(j.text.split(\"\\n\"))\n",
    "driver.find_element_by_xpath(\"//a[@id='bowlers-t20s-tab']\").click()\n",
    "t20lst=[]\n",
    "bt20=driver.find_elements_by_xpath(\"//a[@id='bowlers-t20s-tab']//following::div[contains(@class,'cb-col cb-col-100 cb-font-14 cb-lst-itm text-center')]\")\n",
    "for k in bt20:\n",
    "    if k.text!='':\n",
    "        t20lst.append(k.text.split(\"\\n\"))\n",
    "\n",
    "\n",
    "pd.ExcelWriter('bowling.xlsx',engine='xlsxwriter')\n",
    "t=pd.DataFrame(testlst,columns=[\"Position\",\"Nan\",\"Player\",\"Country\",\"Rating\"])\n",
    "t.drop(\"Nan\",axis=\"columns\",inplace=True)\n",
    "t.to_excel(writer,sheet_name=\"Test\",index=False)\n",
    "\n",
    "pd.ExcelWriter('bowling.xlsx',engine='xlsxwriter')\n",
    "odi=pd.DataFrame(odilst,columns=[\"Position\",\"Nan\",\"Player\",\"Country\",\"Rating\"])\n",
    "odi.drop(\"Nan\",axis=\"columns\",inplace=True)\n",
    "odi.to_excel(writer,sheet_name=\"Odi\",index=False)\n",
    "\n",
    "pd.ExcelWriter('bowling.xlsx',engine='xlsxwriter')\n",
    "t20=pd.DataFrame(t20lst,columns=[\"Position\",\"Nan\",\"Player\",\"Country\",\"Rating\"])\n",
    "t20.drop(\"Nan\",axis=\"columns\",inplace=True)\n",
    "t20.to_excel(writer,sheet_name=\"T20\",index=False)\n",
    "\n",
    "\n",
    "writer.save()\n",
    "writer.close()\n"
   ]
  },
  {
   "cell_type": "code",
   "execution_count": null,
   "metadata": {
    "collapsed": true
   },
   "outputs": [],
   "source": []
  },
  {
   "cell_type": "code",
   "execution_count": null,
   "metadata": {
    "collapsed": true
   },
   "outputs": [],
   "source": [
    "//label[contains(text(),'State :')]//following::select[1]"
   ]
  },
  {
   "cell_type": "code",
   "execution_count": 15,
   "metadata": {},
   "outputs": [
    {
     "name": "stdout",
     "output_type": "stream",
     "text": [
      "COUNTRY NAME: ['India', 'Ireland', 'Pakistan', 'Australia', 'Sri Lanka', 'Bangladesh', 'England', 'West Indies', 'South Africa', 'Zimbabwe', 'New Zealand', 'Afghanistan', 'Italy', 'Botswana', 'Iran', 'Belgium', 'Denmark', 'Namibia', 'Singapore', 'Bermuda', 'Canada', 'Uganda', 'Malaysia', 'Nepal', 'Netherlands', 'Scotland', 'United Arab Emirates', 'Hong Kong', 'Kenya', 'United States', 'Germany', 'Fiji', 'Kuwait', 'Vanuatu', 'Jersey', 'Oman', 'Papua New Guinea']\n"
     ]
    },
    {
     "data": {
      "text/plain": [
       "<bound method WebDriver.close of <selenium.webdriver.chrome.webdriver.WebDriver (session=\"700068d5bde9417cd06a4b8122be1116\")>>"
      ]
     },
     "execution_count": 15,
     "metadata": {},
     "output_type": "execute_result"
    }
   ],
   "source": [
    "import os\n",
    "driverPath =  r\"C:\\\\Users\\\\ELCOT\\driver\\chromedriver.exe\"\n",
    "driver = webdriver.Chrome(executable_path=driverPath)\n",
    "driver.get(\"https://www.cricbuzz.com/cricket-team\")\n",
    "country=driver.find_elements_by_xpath(\"//body/div[1]/div[2]/div[5]/div[1]\")\n",
    "lst=[]\n",
    "for i in country:\n",
    "    lst.append(i.text)\n",
    "    l=lst[0].split('\\n')\n",
    "    print(\"COUNTRY NAME:\",l)\n",
    "image=driver.find_elements_by_xpath(\"//div[contains(@class,'cb-col cb-col-25')]\")\n",
    "for i,j in zip(image,l):\n",
    "    with open(j+\".png\",\"wb\") as pic:\n",
    "        pic.write(i.screenshot_as_png)\n",
    "driver.close\n",
    "    \n",
    "\n"
   ]
  },
  {
   "cell_type": "code",
   "execution_count": null,
   "metadata": {
    "collapsed": true
   },
   "outputs": [],
   "source": []
  },
  {
   "cell_type": "code",
   "execution_count": null,
   "metadata": {
    "collapsed": true
   },
   "outputs": [],
   "source": [
    "driver = webdriver.Chrome(executable_path=driverPath)\n",
    "driver.get(\"https://ai.fmcsa.dot.gov/hhg/Search.asp?ads=a\")\n",
    "\n",
    "for i in range(1,50):\n",
    "    state=driver.find_element_by_xpath(\"//option[contains(text(),'Please select state')]//following::option[\"+str(1)+\"]\")\n",
    "    state.click()\n",
    "    print(state.text)\n",
    "    driver.find_element_by_xpath(\"//options(text(),'Please select state')]//following::input\").click()     \n",
    "    driver.back()"
   ]
  },
  {
   "cell_type": "code",
   "execution_count": null,
   "metadata": {
    "collapsed": true
   },
   "outputs": [],
   "source": []
  },
  {
   "cell_type": "code",
   "execution_count": null,
   "metadata": {},
   "outputs": [],
   "source": []
  },
  {
   "cell_type": "code",
   "execution_count": 23,
   "metadata": {
    "collapsed": true
   },
   "outputs": [],
   "source": []
  },
  {
   "cell_type": "code",
   "execution_count": null,
   "metadata": {},
   "outputs": [],
   "source": []
  },
  {
   "cell_type": "code",
   "execution_count": null,
   "metadata": {
    "collapsed": true
   },
   "outputs": [],
   "source": []
  },
  {
   "cell_type": "code",
   "execution_count": null,
   "metadata": {
    "collapsed": true
   },
   "outputs": [],
   "source": []
  }
 ],
 "metadata": {
  "kernelspec": {
   "display_name": "Python 3",
   "language": "python",
   "name": "python3"
  },
  "language_info": {
   "codemirror_mode": {
    "name": "ipython",
    "version": 3
   },
   "file_extension": ".py",
   "mimetype": "text/x-python",
   "name": "python",
   "nbconvert_exporter": "python",
   "pygments_lexer": "ipython3",
   "version": "3.6.3"
  }
 },
 "nbformat": 4,
 "nbformat_minor": 2
}
