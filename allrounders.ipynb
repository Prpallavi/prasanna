{
 "cells": [
  {
   "cell_type": "code",
   "execution_count": 1,
   "metadata": {
    "collapsed": true
   },
   "outputs": [],
   "source": [
    "from selenium import webdriver\n",
    "from selenium.webdriver.support.ui import Select\n",
    "import time\n",
    "import pandas as pd"
   ]
  },
  {
   "cell_type": "code",
   "execution_count": 8,
   "metadata": {
    "collapsed": true
   },
   "outputs": [],
   "source": [
    "#allrounders\n",
    "driverPath =  r\"C:\\\\Users\\\\ELCOT\\driver\\chromedriver.exe\"\n",
    "driver = webdriver.Chrome(executable_path=driverPath)\n",
    "driver.get(\"https://www.cricbuzz.com/cricket-stats/icc-rankings/men/all-rounder\")\n",
    "driver.maximize_window()\n",
    "writer=pd.ExcelWriter(r\"C:\\\\Users\\\\ELCOT\"+\"\\\\\"+'allrounders.xlsx',engine='xlsxwriter')\n",
    "testlst=[]\n",
    "btest=driver.find_elements_by_xpath(\"//a[@id='allrounders-tests-tab']//following::div[contains(@class,'cb-col cb-col-100 cb-font-14 cb-lst-itm text-center')]\")\n",
    "for i in btest:\n",
    "    testlst.append(i.text.split(\"\\n\"))\n",
    "driver.find_element_by_xpath(\"//a[@id='allrounders-odis-tab']\").click()\n",
    "baodi=driver.find_elements_by_xpath(\"//a[@id='allrounders-odis-tab']//following::div[contains(@class,'cb-col cb-col-100 cb-font-14 cb-lst-itm text-center')]\")\n",
    "odilst=[]\n",
    "for j in baodi:\n",
    "    if j.text!='':\n",
    "        odilst.append(j.text.split(\"\\n\"))\n",
    "driver.find_element_by_xpath(\"//a[@id='allrounders-t20s-tab']\").click()\n",
    "t20lst=[]\n",
    "bt20=driver.find_elements_by_xpath(\"//a[@id='allrounders-t20s-tab']//following::div[contains(@class,'cb-col cb-col-100 cb-font-14 cb-lst-itm text-center')]\")\n",
    "for k in bt20:\n",
    "    if k.text!='':\n",
    "        t20lst.append(k.text.split(\"\\n\"))\n",
    "pd.ExcelWriter('allrounders.xlsx',engine='xlsxwriter')\n",
    "t=pd.DataFrame(testlst,columns=[\"Position\",\"Nan\",\"Player\",\"Country\",\"Rating\"])\n",
    "t.drop(\"Nan\",axis=\"columns\",inplace=True)\n",
    "t.to_excel(writer,sheet_name=\"Test\",index=False)\n",
    "\n",
    "pd.ExcelWriter('allrounders.xlsx',engine='xlsxwriter')\n",
    "odi=pd.DataFrame(odilst,columns=[\"Position\",\"Nan\",\"Player\",\"Country\",\"Rating\"])\n",
    "odi.drop(\"Nan\",axis=\"columns\",inplace=True)\n",
    "odi.to_excel(writer,sheet_name=\"Odi\",index=False)\n",
    "\n",
    "pd.ExcelWriter('allrounders.xlsx',engine='xlsxwriter')\n",
    "t20=pd.DataFrame(t20lst,columns=[\"Position\",\"Nan\",\"Player\",\"Country\",\"Rating\"])\n",
    "t20.drop(\"Nan\",axis=\"columns\",inplace=True)\n",
    "t20.to_excel(writer,sheet_name=\"T20\",index=False)\n",
    "\n",
    "writer.save()\n",
    "writer.close()"
   ]
  },
  {
   "cell_type": "code",
   "execution_count": 12,
   "metadata": {
    "collapsed": true
   },
   "outputs": [],
   "source": [
    "#teams\n",
    "driverPath =  r\"C:\\\\Users\\\\ELCOT\\driver\\chromedriver.exe\"\n",
    "driver = webdriver.Chrome(executable_path=driverPath)\n",
    "driver.get(\"https://www.cricbuzz.com/cricket-stats/icc-rankings/men/teams\")\n",
    "driver.maximize_window()\n",
    "writer=pd.ExcelWriter(r\"C:\\\\Users\\\\ELCOT\"+\"\\\\\"+'teams.xlsx',engine='xlsxwriter')\n",
    "testlst=[]\n",
    "btest=driver.find_elements_by_xpath(\"//a[@id='teams-tests-tab']//following::div[contains(@class,'cb-col cb-col-100 cb-font-14 cb-brdr-thin-btm text-center')]\")\n",
    "for i in btest:\n",
    "    testlst.append(i.text.split(\"\\n\"))\n",
    "driver.find_element_by_xpath(\"//a[@id='teams-odis-tab']\").click()\n",
    "baodi=driver.find_elements_by_xpath(\"//a[@id='teams-odis-tab']//following::div[contains(@class,'cb-col cb-col-100 cb-font-14 cb-brdr-thin-btm text-center')]\")\n",
    "odilst=[]\n",
    "for j in baodi:\n",
    "    if j.text!='':\n",
    "        odilst.append(j.text.split(\"\\n\"))\n",
    "driver.find_element_by_xpath(\"//a[@id='teams-t20s-tab']\").click()\n",
    "t20lst=[]\n",
    "bt20=driver.find_elements_by_xpath(\"//a[@id='teams-t20s-tab']//following::div[contains(@class,'cb-col cb-col-100 cb-font-14 cb-brdr-thin-btm text-center')]\")\n",
    "for k in bt20:\n",
    "    if k.text!='':\n",
    "        t20lst.append(k.text.split(\"\\n\"))\n",
    "pd.ExcelWriter('teams.xlsx',engine='xlsxwriter')\n",
    "t=pd.DataFrame(testlst,columns=[\"Position\",\"Team\",\"Rating\",\"Points\"])\n",
    "#t.drop(\"Nan\",axis=\"columns\",inplace=True)\n",
    "t.to_excel(writer,sheet_name=\"Test\",index=False)\n",
    "\n",
    "pd.ExcelWriter('teams.xlsx',engine='xlsxwriter')\n",
    "odi=pd.DataFrame(odilst,columns=[\"Position\",\"Team\",\"Rating\",\"Points\"])\n",
    "#odi.drop(\"Nan\",axis=\"columns\",inplace=True)\n",
    "odi.to_excel(writer,sheet_name=\"Odi\",index=False)\n",
    "\n",
    "pd.ExcelWriter('teams.xlsx',engine='xlsxwriter')\n",
    "t20=pd.DataFrame(t20lst,columns=[\"Position\",\"Team\",\"Rating\",\"Points\"])\n",
    "#t20.drop(\"Nan\",axis=\"columns\",inplace=True)\n",
    "t20.to_excel(writer,sheet_name=\"T20\",index=False)\n",
    "\n",
    "writer.save()\n",
    "writer.close()"
   ]
  },
  {
   "cell_type": "code",
   "execution_count": 6,
   "metadata": {
    "collapsed": true
   },
   "outputs": [],
   "source": [
    "driverPath =  r\"C:\\\\Users\\\\ELCOT\\driver\\chromedriver.exe\"\n",
    "driver = webdriver.Chrome(executable_path=driverPath)\n",
    "fname=\"state.xlsx\"\n",
    "writer=pd.ExcelWriter(r\"C:\\\\Users\\\\ELCOT\"+\"\\\\\"+fname,engine=\"xlsxwriter\")\n",
    "driver.get(\"https://ai.fmcsa.dot.gov/hhg/Search.asp?ads=a&lan=en\")\n",
    "driver.maximize_window()\n",
    "driver.find_element_by_xpath(\"//label[contains(text(),'State :')]//following::select\").click()\n",
    "for i in range(1,97):\n",
    "    country=driver.find_element_by_xpath(\"//option[contains(text(),'Please select state')]//following::option[\"+str(i)+\"]\")\n",
    "    country.click()\n",
    "    con=country.text\n",
    "    driver.find_element_by_xpath(\"//tbody/tr[1]/td[2]/input[3]\").click()\n",
    "    table=driver.find_element_by_xpath(\"//h2[contains(text(),'Search Results')]//following::td[13]\")\n",
    "    try:\n",
    "        allrows=table.find_elements_by_tag_name(\"tr\")\n",
    "        h=allrows[0].text.split(\" \")\n",
    "        h1=h[0]+\"-\"+h[1]+\",\"+h[2]+\"-\"+h[3]+\",\"+h[4]+\"-\"+h[5]+\",\"+h[7]+\"-\"+h[8]\n",
    "        h2=h1.split(',')\n",
    "        columns = dict()\n",
    "        for h in h2:\n",
    "            columns[h] = []\n",
    "        for rw in allrows[1:]:\n",
    "            data = rw.find_elements_by_tag_name(\"td\")\n",
    "            for name, item in zip(h2,data):\n",
    "                        value = item.text\n",
    "                        if value.startswith (\" \\nNotes\"):\n",
    "                            break\n",
    "                        else:\n",
    "                            columns[name].append(value)\n",
    "            pd.DataFrame(columns).to_excel(writer,sheet_name=con,index=False)\n",
    "    except:\n",
    "        pass\n",
    "        \n",
    "    driver.back()\n",
    "driver.close()\n",
    "writer.save()\n",
    "writer.close()"
   ]
  },
  {
   "cell_type": "code",
   "execution_count": null,
   "metadata": {
    "collapsed": true
   },
   "outputs": [],
   "source": []
  }
 ],
 "metadata": {
  "kernelspec": {
   "display_name": "Python 3",
   "language": "python",
   "name": "python3"
  },
  "language_info": {
   "codemirror_mode": {
    "name": "ipython",
    "version": 3
   },
   "file_extension": ".py",
   "mimetype": "text/x-python",
   "name": "python",
   "nbconvert_exporter": "python",
   "pygments_lexer": "ipython3",
   "version": "3.6.3"
  }
 },
 "nbformat": 4,
 "nbformat_minor": 2
}
